{
  "nbformat": 4,
  "nbformat_minor": 0,
  "metadata": {
    "colab": {
      "name": "comp7015 lab3 Deep learning with PyTorch (Part 1).ipynb",
      "provenance": [],
      "collapsed_sections": [],
      "toc_visible": true,
      "authorship_tag": "ABX9TyNfu/41/g4l1yFpISFJQOIE",
      "include_colab_link": true
    },
    "kernelspec": {
      "name": "python3",
      "display_name": "Python 3"
    },
    "language_info": {
      "name": "python"
    },
    "widgets": {
      "application/vnd.jupyter.widget-state+json": {
        "25919213b2b84bdaa0fcfb8b1defc6be": {
          "model_module": "@jupyter-widgets/controls",
          "model_name": "HBoxModel",
          "model_module_version": "1.5.0",
          "state": {
            "_dom_classes": [],
            "_model_module": "@jupyter-widgets/controls",
            "_model_module_version": "1.5.0",
            "_model_name": "HBoxModel",
            "_view_count": null,
            "_view_module": "@jupyter-widgets/controls",
            "_view_module_version": "1.5.0",
            "_view_name": "HBoxView",
            "box_style": "",
            "children": [
              "IPY_MODEL_d131130c8a414bc5928d0baf436e7bfe",
              "IPY_MODEL_4541bda4eb854384be139561a4ddc191",
              "IPY_MODEL_e1e640872c6c49199d0da67f36ef2c64"
            ],
            "layout": "IPY_MODEL_bd55dd2121604e969e879165902c75bf"
          }
        },
        "d131130c8a414bc5928d0baf436e7bfe": {
          "model_module": "@jupyter-widgets/controls",
          "model_name": "HTMLModel",
          "model_module_version": "1.5.0",
          "state": {
            "_dom_classes": [],
            "_model_module": "@jupyter-widgets/controls",
            "_model_module_version": "1.5.0",
            "_model_name": "HTMLModel",
            "_view_count": null,
            "_view_module": "@jupyter-widgets/controls",
            "_view_module_version": "1.5.0",
            "_view_name": "HTMLView",
            "description": "",
            "description_tooltip": null,
            "layout": "IPY_MODEL_33754d2d5c23452ebde36646be4f7403",
            "placeholder": "​",
            "style": "IPY_MODEL_3223a5a71e6047cab13effd41ea7a2fd",
            "value": "100%"
          }
        },
        "4541bda4eb854384be139561a4ddc191": {
          "model_module": "@jupyter-widgets/controls",
          "model_name": "FloatProgressModel",
          "model_module_version": "1.5.0",
          "state": {
            "_dom_classes": [],
            "_model_module": "@jupyter-widgets/controls",
            "_model_module_version": "1.5.0",
            "_model_name": "FloatProgressModel",
            "_view_count": null,
            "_view_module": "@jupyter-widgets/controls",
            "_view_module_version": "1.5.0",
            "_view_name": "ProgressView",
            "bar_style": "success",
            "description": "",
            "description_tooltip": null,
            "layout": "IPY_MODEL_786141ac9e3743359d296b9e015a4aff",
            "max": 26421880,
            "min": 0,
            "orientation": "horizontal",
            "style": "IPY_MODEL_951d4dab9aa247249e4229149760a373",
            "value": 26421880
          }
        },
        "e1e640872c6c49199d0da67f36ef2c64": {
          "model_module": "@jupyter-widgets/controls",
          "model_name": "HTMLModel",
          "model_module_version": "1.5.0",
          "state": {
            "_dom_classes": [],
            "_model_module": "@jupyter-widgets/controls",
            "_model_module_version": "1.5.0",
            "_model_name": "HTMLModel",
            "_view_count": null,
            "_view_module": "@jupyter-widgets/controls",
            "_view_module_version": "1.5.0",
            "_view_name": "HTMLView",
            "description": "",
            "description_tooltip": null,
            "layout": "IPY_MODEL_220f374da37d420d98b489c32ec71775",
            "placeholder": "​",
            "style": "IPY_MODEL_4a4f78e9bba9473c975e27dc4a37cdcd",
            "value": " 26421880/26421880 [00:02&lt;00:00, 18289596.95it/s]"
          }
        },
        "bd55dd2121604e969e879165902c75bf": {
          "model_module": "@jupyter-widgets/base",
          "model_name": "LayoutModel",
          "model_module_version": "1.2.0",
          "state": {
            "_model_module": "@jupyter-widgets/base",
            "_model_module_version": "1.2.0",
            "_model_name": "LayoutModel",
            "_view_count": null,
            "_view_module": "@jupyter-widgets/base",
            "_view_module_version": "1.2.0",
            "_view_name": "LayoutView",
            "align_content": null,
            "align_items": null,
            "align_self": null,
            "border": null,
            "bottom": null,
            "display": null,
            "flex": null,
            "flex_flow": null,
            "grid_area": null,
            "grid_auto_columns": null,
            "grid_auto_flow": null,
            "grid_auto_rows": null,
            "grid_column": null,
            "grid_gap": null,
            "grid_row": null,
            "grid_template_areas": null,
            "grid_template_columns": null,
            "grid_template_rows": null,
            "height": null,
            "justify_content": null,
            "justify_items": null,
            "left": null,
            "margin": null,
            "max_height": null,
            "max_width": null,
            "min_height": null,
            "min_width": null,
            "object_fit": null,
            "object_position": null,
            "order": null,
            "overflow": null,
            "overflow_x": null,
            "overflow_y": null,
            "padding": null,
            "right": null,
            "top": null,
            "visibility": null,
            "width": null
          }
        },
        "33754d2d5c23452ebde36646be4f7403": {
          "model_module": "@jupyter-widgets/base",
          "model_name": "LayoutModel",
          "model_module_version": "1.2.0",
          "state": {
            "_model_module": "@jupyter-widgets/base",
            "_model_module_version": "1.2.0",
            "_model_name": "LayoutModel",
            "_view_count": null,
            "_view_module": "@jupyter-widgets/base",
            "_view_module_version": "1.2.0",
            "_view_name": "LayoutView",
            "align_content": null,
            "align_items": null,
            "align_self": null,
            "border": null,
            "bottom": null,
            "display": null,
            "flex": null,
            "flex_flow": null,
            "grid_area": null,
            "grid_auto_columns": null,
            "grid_auto_flow": null,
            "grid_auto_rows": null,
            "grid_column": null,
            "grid_gap": null,
            "grid_row": null,
            "grid_template_areas": null,
            "grid_template_columns": null,
            "grid_template_rows": null,
            "height": null,
            "justify_content": null,
            "justify_items": null,
            "left": null,
            "margin": null,
            "max_height": null,
            "max_width": null,
            "min_height": null,
            "min_width": null,
            "object_fit": null,
            "object_position": null,
            "order": null,
            "overflow": null,
            "overflow_x": null,
            "overflow_y": null,
            "padding": null,
            "right": null,
            "top": null,
            "visibility": null,
            "width": null
          }
        },
        "3223a5a71e6047cab13effd41ea7a2fd": {
          "model_module": "@jupyter-widgets/controls",
          "model_name": "DescriptionStyleModel",
          "model_module_version": "1.5.0",
          "state": {
            "_model_module": "@jupyter-widgets/controls",
            "_model_module_version": "1.5.0",
            "_model_name": "DescriptionStyleModel",
            "_view_count": null,
            "_view_module": "@jupyter-widgets/base",
            "_view_module_version": "1.2.0",
            "_view_name": "StyleView",
            "description_width": ""
          }
        },
        "786141ac9e3743359d296b9e015a4aff": {
          "model_module": "@jupyter-widgets/base",
          "model_name": "LayoutModel",
          "model_module_version": "1.2.0",
          "state": {
            "_model_module": "@jupyter-widgets/base",
            "_model_module_version": "1.2.0",
            "_model_name": "LayoutModel",
            "_view_count": null,
            "_view_module": "@jupyter-widgets/base",
            "_view_module_version": "1.2.0",
            "_view_name": "LayoutView",
            "align_content": null,
            "align_items": null,
            "align_self": null,
            "border": null,
            "bottom": null,
            "display": null,
            "flex": null,
            "flex_flow": null,
            "grid_area": null,
            "grid_auto_columns": null,
            "grid_auto_flow": null,
            "grid_auto_rows": null,
            "grid_column": null,
            "grid_gap": null,
            "grid_row": null,
            "grid_template_areas": null,
            "grid_template_columns": null,
            "grid_template_rows": null,
            "height": null,
            "justify_content": null,
            "justify_items": null,
            "left": null,
            "margin": null,
            "max_height": null,
            "max_width": null,
            "min_height": null,
            "min_width": null,
            "object_fit": null,
            "object_position": null,
            "order": null,
            "overflow": null,
            "overflow_x": null,
            "overflow_y": null,
            "padding": null,
            "right": null,
            "top": null,
            "visibility": null,
            "width": null
          }
        },
        "951d4dab9aa247249e4229149760a373": {
          "model_module": "@jupyter-widgets/controls",
          "model_name": "ProgressStyleModel",
          "model_module_version": "1.5.0",
          "state": {
            "_model_module": "@jupyter-widgets/controls",
            "_model_module_version": "1.5.0",
            "_model_name": "ProgressStyleModel",
            "_view_count": null,
            "_view_module": "@jupyter-widgets/base",
            "_view_module_version": "1.2.0",
            "_view_name": "StyleView",
            "bar_color": null,
            "description_width": ""
          }
        },
        "220f374da37d420d98b489c32ec71775": {
          "model_module": "@jupyter-widgets/base",
          "model_name": "LayoutModel",
          "model_module_version": "1.2.0",
          "state": {
            "_model_module": "@jupyter-widgets/base",
            "_model_module_version": "1.2.0",
            "_model_name": "LayoutModel",
            "_view_count": null,
            "_view_module": "@jupyter-widgets/base",
            "_view_module_version": "1.2.0",
            "_view_name": "LayoutView",
            "align_content": null,
            "align_items": null,
            "align_self": null,
            "border": null,
            "bottom": null,
            "display": null,
            "flex": null,
            "flex_flow": null,
            "grid_area": null,
            "grid_auto_columns": null,
            "grid_auto_flow": null,
            "grid_auto_rows": null,
            "grid_column": null,
            "grid_gap": null,
            "grid_row": null,
            "grid_template_areas": null,
            "grid_template_columns": null,
            "grid_template_rows": null,
            "height": null,
            "justify_content": null,
            "justify_items": null,
            "left": null,
            "margin": null,
            "max_height": null,
            "max_width": null,
            "min_height": null,
            "min_width": null,
            "object_fit": null,
            "object_position": null,
            "order": null,
            "overflow": null,
            "overflow_x": null,
            "overflow_y": null,
            "padding": null,
            "right": null,
            "top": null,
            "visibility": null,
            "width": null
          }
        },
        "4a4f78e9bba9473c975e27dc4a37cdcd": {
          "model_module": "@jupyter-widgets/controls",
          "model_name": "DescriptionStyleModel",
          "model_module_version": "1.5.0",
          "state": {
            "_model_module": "@jupyter-widgets/controls",
            "_model_module_version": "1.5.0",
            "_model_name": "DescriptionStyleModel",
            "_view_count": null,
            "_view_module": "@jupyter-widgets/base",
            "_view_module_version": "1.2.0",
            "_view_name": "StyleView",
            "description_width": ""
          }
        },
        "5ee6b2e003ad45a3936b8af65d4953ba": {
          "model_module": "@jupyter-widgets/controls",
          "model_name": "HBoxModel",
          "model_module_version": "1.5.0",
          "state": {
            "_dom_classes": [],
            "_model_module": "@jupyter-widgets/controls",
            "_model_module_version": "1.5.0",
            "_model_name": "HBoxModel",
            "_view_count": null,
            "_view_module": "@jupyter-widgets/controls",
            "_view_module_version": "1.5.0",
            "_view_name": "HBoxView",
            "box_style": "",
            "children": [
              "IPY_MODEL_787106eeec4641bc8d27dbe058b9faca",
              "IPY_MODEL_22eb3687ec5545109f5332bd920ebc04",
              "IPY_MODEL_97b7c6fff0b9422aa16cd38cd68a04b7"
            ],
            "layout": "IPY_MODEL_56f40cb07fe44db68021ec0f517b3c80"
          }
        },
        "787106eeec4641bc8d27dbe058b9faca": {
          "model_module": "@jupyter-widgets/controls",
          "model_name": "HTMLModel",
          "model_module_version": "1.5.0",
          "state": {
            "_dom_classes": [],
            "_model_module": "@jupyter-widgets/controls",
            "_model_module_version": "1.5.0",
            "_model_name": "HTMLModel",
            "_view_count": null,
            "_view_module": "@jupyter-widgets/controls",
            "_view_module_version": "1.5.0",
            "_view_name": "HTMLView",
            "description": "",
            "description_tooltip": null,
            "layout": "IPY_MODEL_5edba22201af4f148675eb0734289881",
            "placeholder": "​",
            "style": "IPY_MODEL_d44cef2d6af14f1a9a4b5cc780214a58",
            "value": "100%"
          }
        },
        "22eb3687ec5545109f5332bd920ebc04": {
          "model_module": "@jupyter-widgets/controls",
          "model_name": "FloatProgressModel",
          "model_module_version": "1.5.0",
          "state": {
            "_dom_classes": [],
            "_model_module": "@jupyter-widgets/controls",
            "_model_module_version": "1.5.0",
            "_model_name": "FloatProgressModel",
            "_view_count": null,
            "_view_module": "@jupyter-widgets/controls",
            "_view_module_version": "1.5.0",
            "_view_name": "ProgressView",
            "bar_style": "success",
            "description": "",
            "description_tooltip": null,
            "layout": "IPY_MODEL_f0ec766acd584416a01559300c5dac6e",
            "max": 29515,
            "min": 0,
            "orientation": "horizontal",
            "style": "IPY_MODEL_e3a3c772040b4e17bd03e07fc0391c77",
            "value": 29515
          }
        },
        "97b7c6fff0b9422aa16cd38cd68a04b7": {
          "model_module": "@jupyter-widgets/controls",
          "model_name": "HTMLModel",
          "model_module_version": "1.5.0",
          "state": {
            "_dom_classes": [],
            "_model_module": "@jupyter-widgets/controls",
            "_model_module_version": "1.5.0",
            "_model_name": "HTMLModel",
            "_view_count": null,
            "_view_module": "@jupyter-widgets/controls",
            "_view_module_version": "1.5.0",
            "_view_name": "HTMLView",
            "description": "",
            "description_tooltip": null,
            "layout": "IPY_MODEL_6d31af5c497342d79acf9a42277d2164",
            "placeholder": "​",
            "style": "IPY_MODEL_d5ba08c3d86447619c91d14dc79573f6",
            "value": " 29515/29515 [00:00&lt;00:00, 206559.59it/s]"
          }
        },
        "56f40cb07fe44db68021ec0f517b3c80": {
          "model_module": "@jupyter-widgets/base",
          "model_name": "LayoutModel",
          "model_module_version": "1.2.0",
          "state": {
            "_model_module": "@jupyter-widgets/base",
            "_model_module_version": "1.2.0",
            "_model_name": "LayoutModel",
            "_view_count": null,
            "_view_module": "@jupyter-widgets/base",
            "_view_module_version": "1.2.0",
            "_view_name": "LayoutView",
            "align_content": null,
            "align_items": null,
            "align_self": null,
            "border": null,
            "bottom": null,
            "display": null,
            "flex": null,
            "flex_flow": null,
            "grid_area": null,
            "grid_auto_columns": null,
            "grid_auto_flow": null,
            "grid_auto_rows": null,
            "grid_column": null,
            "grid_gap": null,
            "grid_row": null,
            "grid_template_areas": null,
            "grid_template_columns": null,
            "grid_template_rows": null,
            "height": null,
            "justify_content": null,
            "justify_items": null,
            "left": null,
            "margin": null,
            "max_height": null,
            "max_width": null,
            "min_height": null,
            "min_width": null,
            "object_fit": null,
            "object_position": null,
            "order": null,
            "overflow": null,
            "overflow_x": null,
            "overflow_y": null,
            "padding": null,
            "right": null,
            "top": null,
            "visibility": null,
            "width": null
          }
        },
        "5edba22201af4f148675eb0734289881": {
          "model_module": "@jupyter-widgets/base",
          "model_name": "LayoutModel",
          "model_module_version": "1.2.0",
          "state": {
            "_model_module": "@jupyter-widgets/base",
            "_model_module_version": "1.2.0",
            "_model_name": "LayoutModel",
            "_view_count": null,
            "_view_module": "@jupyter-widgets/base",
            "_view_module_version": "1.2.0",
            "_view_name": "LayoutView",
            "align_content": null,
            "align_items": null,
            "align_self": null,
            "border": null,
            "bottom": null,
            "display": null,
            "flex": null,
            "flex_flow": null,
            "grid_area": null,
            "grid_auto_columns": null,
            "grid_auto_flow": null,
            "grid_auto_rows": null,
            "grid_column": null,
            "grid_gap": null,
            "grid_row": null,
            "grid_template_areas": null,
            "grid_template_columns": null,
            "grid_template_rows": null,
            "height": null,
            "justify_content": null,
            "justify_items": null,
            "left": null,
            "margin": null,
            "max_height": null,
            "max_width": null,
            "min_height": null,
            "min_width": null,
            "object_fit": null,
            "object_position": null,
            "order": null,
            "overflow": null,
            "overflow_x": null,
            "overflow_y": null,
            "padding": null,
            "right": null,
            "top": null,
            "visibility": null,
            "width": null
          }
        },
        "d44cef2d6af14f1a9a4b5cc780214a58": {
          "model_module": "@jupyter-widgets/controls",
          "model_name": "DescriptionStyleModel",
          "model_module_version": "1.5.0",
          "state": {
            "_model_module": "@jupyter-widgets/controls",
            "_model_module_version": "1.5.0",
            "_model_name": "DescriptionStyleModel",
            "_view_count": null,
            "_view_module": "@jupyter-widgets/base",
            "_view_module_version": "1.2.0",
            "_view_name": "StyleView",
            "description_width": ""
          }
        },
        "f0ec766acd584416a01559300c5dac6e": {
          "model_module": "@jupyter-widgets/base",
          "model_name": "LayoutModel",
          "model_module_version": "1.2.0",
          "state": {
            "_model_module": "@jupyter-widgets/base",
            "_model_module_version": "1.2.0",
            "_model_name": "LayoutModel",
            "_view_count": null,
            "_view_module": "@jupyter-widgets/base",
            "_view_module_version": "1.2.0",
            "_view_name": "LayoutView",
            "align_content": null,
            "align_items": null,
            "align_self": null,
            "border": null,
            "bottom": null,
            "display": null,
            "flex": null,
            "flex_flow": null,
            "grid_area": null,
            "grid_auto_columns": null,
            "grid_auto_flow": null,
            "grid_auto_rows": null,
            "grid_column": null,
            "grid_gap": null,
            "grid_row": null,
            "grid_template_areas": null,
            "grid_template_columns": null,
            "grid_template_rows": null,
            "height": null,
            "justify_content": null,
            "justify_items": null,
            "left": null,
            "margin": null,
            "max_height": null,
            "max_width": null,
            "min_height": null,
            "min_width": null,
            "object_fit": null,
            "object_position": null,
            "order": null,
            "overflow": null,
            "overflow_x": null,
            "overflow_y": null,
            "padding": null,
            "right": null,
            "top": null,
            "visibility": null,
            "width": null
          }
        },
        "e3a3c772040b4e17bd03e07fc0391c77": {
          "model_module": "@jupyter-widgets/controls",
          "model_name": "ProgressStyleModel",
          "model_module_version": "1.5.0",
          "state": {
            "_model_module": "@jupyter-widgets/controls",
            "_model_module_version": "1.5.0",
            "_model_name": "ProgressStyleModel",
            "_view_count": null,
            "_view_module": "@jupyter-widgets/base",
            "_view_module_version": "1.2.0",
            "_view_name": "StyleView",
            "bar_color": null,
            "description_width": ""
          }
        },
        "6d31af5c497342d79acf9a42277d2164": {
          "model_module": "@jupyter-widgets/base",
          "model_name": "LayoutModel",
          "model_module_version": "1.2.0",
          "state": {
            "_model_module": "@jupyter-widgets/base",
            "_model_module_version": "1.2.0",
            "_model_name": "LayoutModel",
            "_view_count": null,
            "_view_module": "@jupyter-widgets/base",
            "_view_module_version": "1.2.0",
            "_view_name": "LayoutView",
            "align_content": null,
            "align_items": null,
            "align_self": null,
            "border": null,
            "bottom": null,
            "display": null,
            "flex": null,
            "flex_flow": null,
            "grid_area": null,
            "grid_auto_columns": null,
            "grid_auto_flow": null,
            "grid_auto_rows": null,
            "grid_column": null,
            "grid_gap": null,
            "grid_row": null,
            "grid_template_areas": null,
            "grid_template_columns": null,
            "grid_template_rows": null,
            "height": null,
            "justify_content": null,
            "justify_items": null,
            "left": null,
            "margin": null,
            "max_height": null,
            "max_width": null,
            "min_height": null,
            "min_width": null,
            "object_fit": null,
            "object_position": null,
            "order": null,
            "overflow": null,
            "overflow_x": null,
            "overflow_y": null,
            "padding": null,
            "right": null,
            "top": null,
            "visibility": null,
            "width": null
          }
        },
        "d5ba08c3d86447619c91d14dc79573f6": {
          "model_module": "@jupyter-widgets/controls",
          "model_name": "DescriptionStyleModel",
          "model_module_version": "1.5.0",
          "state": {
            "_model_module": "@jupyter-widgets/controls",
            "_model_module_version": "1.5.0",
            "_model_name": "DescriptionStyleModel",
            "_view_count": null,
            "_view_module": "@jupyter-widgets/base",
            "_view_module_version": "1.2.0",
            "_view_name": "StyleView",
            "description_width": ""
          }
        },
        "fe45529ae1a74584bde3e49d60692362": {
          "model_module": "@jupyter-widgets/controls",
          "model_name": "HBoxModel",
          "model_module_version": "1.5.0",
          "state": {
            "_dom_classes": [],
            "_model_module": "@jupyter-widgets/controls",
            "_model_module_version": "1.5.0",
            "_model_name": "HBoxModel",
            "_view_count": null,
            "_view_module": "@jupyter-widgets/controls",
            "_view_module_version": "1.5.0",
            "_view_name": "HBoxView",
            "box_style": "",
            "children": [
              "IPY_MODEL_125dad1ea5fe4c88badcb21cb9f68865",
              "IPY_MODEL_1c0a624d02e94ddfbea172e9b4236ccb",
              "IPY_MODEL_5172a1dfb9e944f5b65132cde724c790"
            ],
            "layout": "IPY_MODEL_b24a939ea410470fa2f0e8fb4f1ded7b"
          }
        },
        "125dad1ea5fe4c88badcb21cb9f68865": {
          "model_module": "@jupyter-widgets/controls",
          "model_name": "HTMLModel",
          "model_module_version": "1.5.0",
          "state": {
            "_dom_classes": [],
            "_model_module": "@jupyter-widgets/controls",
            "_model_module_version": "1.5.0",
            "_model_name": "HTMLModel",
            "_view_count": null,
            "_view_module": "@jupyter-widgets/controls",
            "_view_module_version": "1.5.0",
            "_view_name": "HTMLView",
            "description": "",
            "description_tooltip": null,
            "layout": "IPY_MODEL_2ee00aa5f51a4cbbb0782ec08412a407",
            "placeholder": "​",
            "style": "IPY_MODEL_d49c4689d6874909abeef08a37335f55",
            "value": "100%"
          }
        },
        "1c0a624d02e94ddfbea172e9b4236ccb": {
          "model_module": "@jupyter-widgets/controls",
          "model_name": "FloatProgressModel",
          "model_module_version": "1.5.0",
          "state": {
            "_dom_classes": [],
            "_model_module": "@jupyter-widgets/controls",
            "_model_module_version": "1.5.0",
            "_model_name": "FloatProgressModel",
            "_view_count": null,
            "_view_module": "@jupyter-widgets/controls",
            "_view_module_version": "1.5.0",
            "_view_name": "ProgressView",
            "bar_style": "success",
            "description": "",
            "description_tooltip": null,
            "layout": "IPY_MODEL_fcbd8f74023b4ffbaa98ba4615b62db3",
            "max": 4422102,
            "min": 0,
            "orientation": "horizontal",
            "style": "IPY_MODEL_bb8d686b12bf4a0a90dd1376b261ca0f",
            "value": 4422102
          }
        },
        "5172a1dfb9e944f5b65132cde724c790": {
          "model_module": "@jupyter-widgets/controls",
          "model_name": "HTMLModel",
          "model_module_version": "1.5.0",
          "state": {
            "_dom_classes": [],
            "_model_module": "@jupyter-widgets/controls",
            "_model_module_version": "1.5.0",
            "_model_name": "HTMLModel",
            "_view_count": null,
            "_view_module": "@jupyter-widgets/controls",
            "_view_module_version": "1.5.0",
            "_view_name": "HTMLView",
            "description": "",
            "description_tooltip": null,
            "layout": "IPY_MODEL_479a4ba37dc049ee91bf6e6bf59b27b1",
            "placeholder": "​",
            "style": "IPY_MODEL_b0fe68a8464e4f239ab3885a3bb39c2c",
            "value": " 4422102/4422102 [00:01&lt;00:00, 6553661.88it/s]"
          }
        },
        "b24a939ea410470fa2f0e8fb4f1ded7b": {
          "model_module": "@jupyter-widgets/base",
          "model_name": "LayoutModel",
          "model_module_version": "1.2.0",
          "state": {
            "_model_module": "@jupyter-widgets/base",
            "_model_module_version": "1.2.0",
            "_model_name": "LayoutModel",
            "_view_count": null,
            "_view_module": "@jupyter-widgets/base",
            "_view_module_version": "1.2.0",
            "_view_name": "LayoutView",
            "align_content": null,
            "align_items": null,
            "align_self": null,
            "border": null,
            "bottom": null,
            "display": null,
            "flex": null,
            "flex_flow": null,
            "grid_area": null,
            "grid_auto_columns": null,
            "grid_auto_flow": null,
            "grid_auto_rows": null,
            "grid_column": null,
            "grid_gap": null,
            "grid_row": null,
            "grid_template_areas": null,
            "grid_template_columns": null,
            "grid_template_rows": null,
            "height": null,
            "justify_content": null,
            "justify_items": null,
            "left": null,
            "margin": null,
            "max_height": null,
            "max_width": null,
            "min_height": null,
            "min_width": null,
            "object_fit": null,
            "object_position": null,
            "order": null,
            "overflow": null,
            "overflow_x": null,
            "overflow_y": null,
            "padding": null,
            "right": null,
            "top": null,
            "visibility": null,
            "width": null
          }
        },
        "2ee00aa5f51a4cbbb0782ec08412a407": {
          "model_module": "@jupyter-widgets/base",
          "model_name": "LayoutModel",
          "model_module_version": "1.2.0",
          "state": {
            "_model_module": "@jupyter-widgets/base",
            "_model_module_version": "1.2.0",
            "_model_name": "LayoutModel",
            "_view_count": null,
            "_view_module": "@jupyter-widgets/base",
            "_view_module_version": "1.2.0",
            "_view_name": "LayoutView",
            "align_content": null,
            "align_items": null,
            "align_self": null,
            "border": null,
            "bottom": null,
            "display": null,
            "flex": null,
            "flex_flow": null,
            "grid_area": null,
            "grid_auto_columns": null,
            "grid_auto_flow": null,
            "grid_auto_rows": null,
            "grid_column": null,
            "grid_gap": null,
            "grid_row": null,
            "grid_template_areas": null,
            "grid_template_columns": null,
            "grid_template_rows": null,
            "height": null,
            "justify_content": null,
            "justify_items": null,
            "left": null,
            "margin": null,
            "max_height": null,
            "max_width": null,
            "min_height": null,
            "min_width": null,
            "object_fit": null,
            "object_position": null,
            "order": null,
            "overflow": null,
            "overflow_x": null,
            "overflow_y": null,
            "padding": null,
            "right": null,
            "top": null,
            "visibility": null,
            "width": null
          }
        },
        "d49c4689d6874909abeef08a37335f55": {
          "model_module": "@jupyter-widgets/controls",
          "model_name": "DescriptionStyleModel",
          "model_module_version": "1.5.0",
          "state": {
            "_model_module": "@jupyter-widgets/controls",
            "_model_module_version": "1.5.0",
            "_model_name": "DescriptionStyleModel",
            "_view_count": null,
            "_view_module": "@jupyter-widgets/base",
            "_view_module_version": "1.2.0",
            "_view_name": "StyleView",
            "description_width": ""
          }
        },
        "fcbd8f74023b4ffbaa98ba4615b62db3": {
          "model_module": "@jupyter-widgets/base",
          "model_name": "LayoutModel",
          "model_module_version": "1.2.0",
          "state": {
            "_model_module": "@jupyter-widgets/base",
            "_model_module_version": "1.2.0",
            "_model_name": "LayoutModel",
            "_view_count": null,
            "_view_module": "@jupyter-widgets/base",
            "_view_module_version": "1.2.0",
            "_view_name": "LayoutView",
            "align_content": null,
            "align_items": null,
            "align_self": null,
            "border": null,
            "bottom": null,
            "display": null,
            "flex": null,
            "flex_flow": null,
            "grid_area": null,
            "grid_auto_columns": null,
            "grid_auto_flow": null,
            "grid_auto_rows": null,
            "grid_column": null,
            "grid_gap": null,
            "grid_row": null,
            "grid_template_areas": null,
            "grid_template_columns": null,
            "grid_template_rows": null,
            "height": null,
            "justify_content": null,
            "justify_items": null,
            "left": null,
            "margin": null,
            "max_height": null,
            "max_width": null,
            "min_height": null,
            "min_width": null,
            "object_fit": null,
            "object_position": null,
            "order": null,
            "overflow": null,
            "overflow_x": null,
            "overflow_y": null,
            "padding": null,
            "right": null,
            "top": null,
            "visibility": null,
            "width": null
          }
        },
        "bb8d686b12bf4a0a90dd1376b261ca0f": {
          "model_module": "@jupyter-widgets/controls",
          "model_name": "ProgressStyleModel",
          "model_module_version": "1.5.0",
          "state": {
            "_model_module": "@jupyter-widgets/controls",
            "_model_module_version": "1.5.0",
            "_model_name": "ProgressStyleModel",
            "_view_count": null,
            "_view_module": "@jupyter-widgets/base",
            "_view_module_version": "1.2.0",
            "_view_name": "StyleView",
            "bar_color": null,
            "description_width": ""
          }
        },
        "479a4ba37dc049ee91bf6e6bf59b27b1": {
          "model_module": "@jupyter-widgets/base",
          "model_name": "LayoutModel",
          "model_module_version": "1.2.0",
          "state": {
            "_model_module": "@jupyter-widgets/base",
            "_model_module_version": "1.2.0",
            "_model_name": "LayoutModel",
            "_view_count": null,
            "_view_module": "@jupyter-widgets/base",
            "_view_module_version": "1.2.0",
            "_view_name": "LayoutView",
            "align_content": null,
            "align_items": null,
            "align_self": null,
            "border": null,
            "bottom": null,
            "display": null,
            "flex": null,
            "flex_flow": null,
            "grid_area": null,
            "grid_auto_columns": null,
            "grid_auto_flow": null,
            "grid_auto_rows": null,
            "grid_column": null,
            "grid_gap": null,
            "grid_row": null,
            "grid_template_areas": null,
            "grid_template_columns": null,
            "grid_template_rows": null,
            "height": null,
            "justify_content": null,
            "justify_items": null,
            "left": null,
            "margin": null,
            "max_height": null,
            "max_width": null,
            "min_height": null,
            "min_width": null,
            "object_fit": null,
            "object_position": null,
            "order": null,
            "overflow": null,
            "overflow_x": null,
            "overflow_y": null,
            "padding": null,
            "right": null,
            "top": null,
            "visibility": null,
            "width": null
          }
        },
        "b0fe68a8464e4f239ab3885a3bb39c2c": {
          "model_module": "@jupyter-widgets/controls",
          "model_name": "DescriptionStyleModel",
          "model_module_version": "1.5.0",
          "state": {
            "_model_module": "@jupyter-widgets/controls",
            "_model_module_version": "1.5.0",
            "_model_name": "DescriptionStyleModel",
            "_view_count": null,
            "_view_module": "@jupyter-widgets/base",
            "_view_module_version": "1.2.0",
            "_view_name": "StyleView",
            "description_width": ""
          }
        },
        "ada1908b8b4d4e94b883a6e5d9e19a7f": {
          "model_module": "@jupyter-widgets/controls",
          "model_name": "HBoxModel",
          "model_module_version": "1.5.0",
          "state": {
            "_dom_classes": [],
            "_model_module": "@jupyter-widgets/controls",
            "_model_module_version": "1.5.0",
            "_model_name": "HBoxModel",
            "_view_count": null,
            "_view_module": "@jupyter-widgets/controls",
            "_view_module_version": "1.5.0",
            "_view_name": "HBoxView",
            "box_style": "",
            "children": [
              "IPY_MODEL_495e0aa2fa76456c8dde11ca4be1313c",
              "IPY_MODEL_08857aef023f42378f52108710a27d47",
              "IPY_MODEL_9a400501269f4419bc76e111bbc514fa"
            ],
            "layout": "IPY_MODEL_3274f7a6528c41e4932063b5f3f8b50b"
          }
        },
        "495e0aa2fa76456c8dde11ca4be1313c": {
          "model_module": "@jupyter-widgets/controls",
          "model_name": "HTMLModel",
          "model_module_version": "1.5.0",
          "state": {
            "_dom_classes": [],
            "_model_module": "@jupyter-widgets/controls",
            "_model_module_version": "1.5.0",
            "_model_name": "HTMLModel",
            "_view_count": null,
            "_view_module": "@jupyter-widgets/controls",
            "_view_module_version": "1.5.0",
            "_view_name": "HTMLView",
            "description": "",
            "description_tooltip": null,
            "layout": "IPY_MODEL_ad9194027f3142dc9cb4908c9b55a82f",
            "placeholder": "​",
            "style": "IPY_MODEL_5ea75c39243c486bbea50fc991281e7b",
            "value": "100%"
          }
        },
        "08857aef023f42378f52108710a27d47": {
          "model_module": "@jupyter-widgets/controls",
          "model_name": "FloatProgressModel",
          "model_module_version": "1.5.0",
          "state": {
            "_dom_classes": [],
            "_model_module": "@jupyter-widgets/controls",
            "_model_module_version": "1.5.0",
            "_model_name": "FloatProgressModel",
            "_view_count": null,
            "_view_module": "@jupyter-widgets/controls",
            "_view_module_version": "1.5.0",
            "_view_name": "ProgressView",
            "bar_style": "success",
            "description": "",
            "description_tooltip": null,
            "layout": "IPY_MODEL_f20f5d2e49794fe08754bbf2f4e99cd8",
            "max": 5148,
            "min": 0,
            "orientation": "horizontal",
            "style": "IPY_MODEL_e4682fbc6d8248b1bb85b5c0e83e4d97",
            "value": 5148
          }
        },
        "9a400501269f4419bc76e111bbc514fa": {
          "model_module": "@jupyter-widgets/controls",
          "model_name": "HTMLModel",
          "model_module_version": "1.5.0",
          "state": {
            "_dom_classes": [],
            "_model_module": "@jupyter-widgets/controls",
            "_model_module_version": "1.5.0",
            "_model_name": "HTMLModel",
            "_view_count": null,
            "_view_module": "@jupyter-widgets/controls",
            "_view_module_version": "1.5.0",
            "_view_name": "HTMLView",
            "description": "",
            "description_tooltip": null,
            "layout": "IPY_MODEL_6fa1eac155f941aa9d0f8ffaf543bbb0",
            "placeholder": "​",
            "style": "IPY_MODEL_b1e16159870b4a51a14eaa25fb5d5325",
            "value": " 5148/5148 [00:00&lt;00:00, 33960.00it/s]"
          }
        },
        "3274f7a6528c41e4932063b5f3f8b50b": {
          "model_module": "@jupyter-widgets/base",
          "model_name": "LayoutModel",
          "model_module_version": "1.2.0",
          "state": {
            "_model_module": "@jupyter-widgets/base",
            "_model_module_version": "1.2.0",
            "_model_name": "LayoutModel",
            "_view_count": null,
            "_view_module": "@jupyter-widgets/base",
            "_view_module_version": "1.2.0",
            "_view_name": "LayoutView",
            "align_content": null,
            "align_items": null,
            "align_self": null,
            "border": null,
            "bottom": null,
            "display": null,
            "flex": null,
            "flex_flow": null,
            "grid_area": null,
            "grid_auto_columns": null,
            "grid_auto_flow": null,
            "grid_auto_rows": null,
            "grid_column": null,
            "grid_gap": null,
            "grid_row": null,
            "grid_template_areas": null,
            "grid_template_columns": null,
            "grid_template_rows": null,
            "height": null,
            "justify_content": null,
            "justify_items": null,
            "left": null,
            "margin": null,
            "max_height": null,
            "max_width": null,
            "min_height": null,
            "min_width": null,
            "object_fit": null,
            "object_position": null,
            "order": null,
            "overflow": null,
            "overflow_x": null,
            "overflow_y": null,
            "padding": null,
            "right": null,
            "top": null,
            "visibility": null,
            "width": null
          }
        },
        "ad9194027f3142dc9cb4908c9b55a82f": {
          "model_module": "@jupyter-widgets/base",
          "model_name": "LayoutModel",
          "model_module_version": "1.2.0",
          "state": {
            "_model_module": "@jupyter-widgets/base",
            "_model_module_version": "1.2.0",
            "_model_name": "LayoutModel",
            "_view_count": null,
            "_view_module": "@jupyter-widgets/base",
            "_view_module_version": "1.2.0",
            "_view_name": "LayoutView",
            "align_content": null,
            "align_items": null,
            "align_self": null,
            "border": null,
            "bottom": null,
            "display": null,
            "flex": null,
            "flex_flow": null,
            "grid_area": null,
            "grid_auto_columns": null,
            "grid_auto_flow": null,
            "grid_auto_rows": null,
            "grid_column": null,
            "grid_gap": null,
            "grid_row": null,
            "grid_template_areas": null,
            "grid_template_columns": null,
            "grid_template_rows": null,
            "height": null,
            "justify_content": null,
            "justify_items": null,
            "left": null,
            "margin": null,
            "max_height": null,
            "max_width": null,
            "min_height": null,
            "min_width": null,
            "object_fit": null,
            "object_position": null,
            "order": null,
            "overflow": null,
            "overflow_x": null,
            "overflow_y": null,
            "padding": null,
            "right": null,
            "top": null,
            "visibility": null,
            "width": null
          }
        },
        "5ea75c39243c486bbea50fc991281e7b": {
          "model_module": "@jupyter-widgets/controls",
          "model_name": "DescriptionStyleModel",
          "model_module_version": "1.5.0",
          "state": {
            "_model_module": "@jupyter-widgets/controls",
            "_model_module_version": "1.5.0",
            "_model_name": "DescriptionStyleModel",
            "_view_count": null,
            "_view_module": "@jupyter-widgets/base",
            "_view_module_version": "1.2.0",
            "_view_name": "StyleView",
            "description_width": ""
          }
        },
        "f20f5d2e49794fe08754bbf2f4e99cd8": {
          "model_module": "@jupyter-widgets/base",
          "model_name": "LayoutModel",
          "model_module_version": "1.2.0",
          "state": {
            "_model_module": "@jupyter-widgets/base",
            "_model_module_version": "1.2.0",
            "_model_name": "LayoutModel",
            "_view_count": null,
            "_view_module": "@jupyter-widgets/base",
            "_view_module_version": "1.2.0",
            "_view_name": "LayoutView",
            "align_content": null,
            "align_items": null,
            "align_self": null,
            "border": null,
            "bottom": null,
            "display": null,
            "flex": null,
            "flex_flow": null,
            "grid_area": null,
            "grid_auto_columns": null,
            "grid_auto_flow": null,
            "grid_auto_rows": null,
            "grid_column": null,
            "grid_gap": null,
            "grid_row": null,
            "grid_template_areas": null,
            "grid_template_columns": null,
            "grid_template_rows": null,
            "height": null,
            "justify_content": null,
            "justify_items": null,
            "left": null,
            "margin": null,
            "max_height": null,
            "max_width": null,
            "min_height": null,
            "min_width": null,
            "object_fit": null,
            "object_position": null,
            "order": null,
            "overflow": null,
            "overflow_x": null,
            "overflow_y": null,
            "padding": null,
            "right": null,
            "top": null,
            "visibility": null,
            "width": null
          }
        },
        "e4682fbc6d8248b1bb85b5c0e83e4d97": {
          "model_module": "@jupyter-widgets/controls",
          "model_name": "ProgressStyleModel",
          "model_module_version": "1.5.0",
          "state": {
            "_model_module": "@jupyter-widgets/controls",
            "_model_module_version": "1.5.0",
            "_model_name": "ProgressStyleModel",
            "_view_count": null,
            "_view_module": "@jupyter-widgets/base",
            "_view_module_version": "1.2.0",
            "_view_name": "StyleView",
            "bar_color": null,
            "description_width": ""
          }
        },
        "6fa1eac155f941aa9d0f8ffaf543bbb0": {
          "model_module": "@jupyter-widgets/base",
          "model_name": "LayoutModel",
          "model_module_version": "1.2.0",
          "state": {
            "_model_module": "@jupyter-widgets/base",
            "_model_module_version": "1.2.0",
            "_model_name": "LayoutModel",
            "_view_count": null,
            "_view_module": "@jupyter-widgets/base",
            "_view_module_version": "1.2.0",
            "_view_name": "LayoutView",
            "align_content": null,
            "align_items": null,
            "align_self": null,
            "border": null,
            "bottom": null,
            "display": null,
            "flex": null,
            "flex_flow": null,
            "grid_area": null,
            "grid_auto_columns": null,
            "grid_auto_flow": null,
            "grid_auto_rows": null,
            "grid_column": null,
            "grid_gap": null,
            "grid_row": null,
            "grid_template_areas": null,
            "grid_template_columns": null,
            "grid_template_rows": null,
            "height": null,
            "justify_content": null,
            "justify_items": null,
            "left": null,
            "margin": null,
            "max_height": null,
            "max_width": null,
            "min_height": null,
            "min_width": null,
            "object_fit": null,
            "object_position": null,
            "order": null,
            "overflow": null,
            "overflow_x": null,
            "overflow_y": null,
            "padding": null,
            "right": null,
            "top": null,
            "visibility": null,
            "width": null
          }
        },
        "b1e16159870b4a51a14eaa25fb5d5325": {
          "model_module": "@jupyter-widgets/controls",
          "model_name": "DescriptionStyleModel",
          "model_module_version": "1.5.0",
          "state": {
            "_model_module": "@jupyter-widgets/controls",
            "_model_module_version": "1.5.0",
            "_model_name": "DescriptionStyleModel",
            "_view_count": null,
            "_view_module": "@jupyter-widgets/base",
            "_view_module_version": "1.2.0",
            "_view_name": "StyleView",
            "description_width": ""
          }
        }
      }
    }
  },
  "cells": [
    {
      "cell_type": "markdown",
      "metadata": {
        "id": "view-in-github",
        "colab_type": "text"
      },
      "source": [
        "<a href=\"https://colab.research.google.com/github/hkbu-kennycheng/comp7015/blob/main/comp7015_lab3_Deep_learning_with_PyTorch_(Part_1).ipynb\" target=\"_parent\"><img src=\"https://colab.research.google.com/assets/colab-badge.svg\" alt=\"Open In Colab\"/></a>"
      ]
    },
    {
      "cell_type": "markdown",
      "source": [
        "# Deep learning with PyTorch (Part 1)\n",
        "\n",
        "---"
      ],
      "metadata": {
        "id": "CMydopc7qVCB"
      }
    },
    {
      "cell_type": "code",
      "source": [
        "import torch"
      ],
      "metadata": {
        "id": "LcN2JWMlc0Hg"
      },
      "execution_count": null,
      "outputs": []
    },
    {
      "cell_type": "markdown",
      "source": [
        "# Multi layer perceptron"
      ],
      "metadata": {
        "id": "0Hpxn0tYqfzY"
      }
    },
    {
      "cell_type": "markdown",
      "source": [
        "## Dataset: Fashion MNIST\n",
        "\n",
        "Let's take a look to the [Fashion MNIST](https://github.com/zalandoresearch/fashion-mnist#fashion-mnist) dataset.\n",
        "\n",
        "![](https://url2img-web.herokuapp.com/aHR0cHM6Ly9naXRodWIuY29tL3phbGFuZG9yZXNlYXJjaC9mYXNoaW9uLW1uaXN0I2Zhc2hpb24tbW5pc3Q=)"
      ],
      "metadata": {
        "id": "JuDMECFtcvZs"
      }
    },
    {
      "cell_type": "code",
      "source": [
        "from torchvision import datasets\n",
        "from torchvision import transforms\n",
        "\n",
        "train_set = datasets.FashionMNIST(\"./data\", download=True, transform=transforms.Compose([transforms.ToTensor()]))\n",
        "test_set = datasets.FashionMNIST(\"./data\", download=True, train=False, transform=transforms.Compose([transforms.ToTensor()]))"
      ],
      "metadata": {
        "colab": {
          "base_uri": "https://localhost:8080/",
          "height": 453,
          "referenced_widgets": [
            "25919213b2b84bdaa0fcfb8b1defc6be",
            "d131130c8a414bc5928d0baf436e7bfe",
            "4541bda4eb854384be139561a4ddc191",
            "e1e640872c6c49199d0da67f36ef2c64",
            "bd55dd2121604e969e879165902c75bf",
            "33754d2d5c23452ebde36646be4f7403",
            "3223a5a71e6047cab13effd41ea7a2fd",
            "786141ac9e3743359d296b9e015a4aff",
            "951d4dab9aa247249e4229149760a373",
            "220f374da37d420d98b489c32ec71775",
            "4a4f78e9bba9473c975e27dc4a37cdcd",
            "5ee6b2e003ad45a3936b8af65d4953ba",
            "787106eeec4641bc8d27dbe058b9faca",
            "22eb3687ec5545109f5332bd920ebc04",
            "97b7c6fff0b9422aa16cd38cd68a04b7",
            "56f40cb07fe44db68021ec0f517b3c80",
            "5edba22201af4f148675eb0734289881",
            "d44cef2d6af14f1a9a4b5cc780214a58",
            "f0ec766acd584416a01559300c5dac6e",
            "e3a3c772040b4e17bd03e07fc0391c77",
            "6d31af5c497342d79acf9a42277d2164",
            "d5ba08c3d86447619c91d14dc79573f6",
            "fe45529ae1a74584bde3e49d60692362",
            "125dad1ea5fe4c88badcb21cb9f68865",
            "1c0a624d02e94ddfbea172e9b4236ccb",
            "5172a1dfb9e944f5b65132cde724c790",
            "b24a939ea410470fa2f0e8fb4f1ded7b",
            "2ee00aa5f51a4cbbb0782ec08412a407",
            "d49c4689d6874909abeef08a37335f55",
            "fcbd8f74023b4ffbaa98ba4615b62db3",
            "bb8d686b12bf4a0a90dd1376b261ca0f",
            "479a4ba37dc049ee91bf6e6bf59b27b1",
            "b0fe68a8464e4f239ab3885a3bb39c2c",
            "ada1908b8b4d4e94b883a6e5d9e19a7f",
            "495e0aa2fa76456c8dde11ca4be1313c",
            "08857aef023f42378f52108710a27d47",
            "9a400501269f4419bc76e111bbc514fa",
            "3274f7a6528c41e4932063b5f3f8b50b",
            "ad9194027f3142dc9cb4908c9b55a82f",
            "5ea75c39243c486bbea50fc991281e7b",
            "f20f5d2e49794fe08754bbf2f4e99cd8",
            "e4682fbc6d8248b1bb85b5c0e83e4d97",
            "6fa1eac155f941aa9d0f8ffaf543bbb0",
            "b1e16159870b4a51a14eaa25fb5d5325"
          ]
        },
        "id": "w4fOGc3Vcugg",
        "outputId": "5e941321-7105-4429-b2e9-1949251daccf"
      },
      "execution_count": null,
      "outputs": [
        {
          "output_type": "stream",
          "name": "stdout",
          "text": [
            "Downloading http://fashion-mnist.s3-website.eu-central-1.amazonaws.com/train-images-idx3-ubyte.gz\n",
            "Downloading http://fashion-mnist.s3-website.eu-central-1.amazonaws.com/train-images-idx3-ubyte.gz to ./data/FashionMNIST/raw/train-images-idx3-ubyte.gz\n"
          ]
        },
        {
          "output_type": "display_data",
          "data": {
            "text/plain": [
              "  0%|          | 0/26421880 [00:00<?, ?it/s]"
            ],
            "application/vnd.jupyter.widget-view+json": {
              "version_major": 2,
              "version_minor": 0,
              "model_id": "25919213b2b84bdaa0fcfb8b1defc6be"
            }
          },
          "metadata": {}
        },
        {
          "output_type": "stream",
          "name": "stdout",
          "text": [
            "Extracting ./data/FashionMNIST/raw/train-images-idx3-ubyte.gz to ./data/FashionMNIST/raw\n",
            "\n",
            "Downloading http://fashion-mnist.s3-website.eu-central-1.amazonaws.com/train-labels-idx1-ubyte.gz\n",
            "Downloading http://fashion-mnist.s3-website.eu-central-1.amazonaws.com/train-labels-idx1-ubyte.gz to ./data/FashionMNIST/raw/train-labels-idx1-ubyte.gz\n"
          ]
        },
        {
          "output_type": "display_data",
          "data": {
            "text/plain": [
              "  0%|          | 0/29515 [00:00<?, ?it/s]"
            ],
            "application/vnd.jupyter.widget-view+json": {
              "version_major": 2,
              "version_minor": 0,
              "model_id": "5ee6b2e003ad45a3936b8af65d4953ba"
            }
          },
          "metadata": {}
        },
        {
          "output_type": "stream",
          "name": "stdout",
          "text": [
            "Extracting ./data/FashionMNIST/raw/train-labels-idx1-ubyte.gz to ./data/FashionMNIST/raw\n",
            "\n",
            "Downloading http://fashion-mnist.s3-website.eu-central-1.amazonaws.com/t10k-images-idx3-ubyte.gz\n",
            "Downloading http://fashion-mnist.s3-website.eu-central-1.amazonaws.com/t10k-images-idx3-ubyte.gz to ./data/FashionMNIST/raw/t10k-images-idx3-ubyte.gz\n"
          ]
        },
        {
          "output_type": "display_data",
          "data": {
            "text/plain": [
              "  0%|          | 0/4422102 [00:00<?, ?it/s]"
            ],
            "application/vnd.jupyter.widget-view+json": {
              "version_major": 2,
              "version_minor": 0,
              "model_id": "fe45529ae1a74584bde3e49d60692362"
            }
          },
          "metadata": {}
        },
        {
          "output_type": "stream",
          "name": "stdout",
          "text": [
            "Extracting ./data/FashionMNIST/raw/t10k-images-idx3-ubyte.gz to ./data/FashionMNIST/raw\n",
            "\n",
            "Downloading http://fashion-mnist.s3-website.eu-central-1.amazonaws.com/t10k-labels-idx1-ubyte.gz\n",
            "Downloading http://fashion-mnist.s3-website.eu-central-1.amazonaws.com/t10k-labels-idx1-ubyte.gz to ./data/FashionMNIST/raw/t10k-labels-idx1-ubyte.gz\n"
          ]
        },
        {
          "output_type": "display_data",
          "data": {
            "text/plain": [
              "  0%|          | 0/5148 [00:00<?, ?it/s]"
            ],
            "application/vnd.jupyter.widget-view+json": {
              "version_major": 2,
              "version_minor": 0,
              "model_id": "ada1908b8b4d4e94b883a6e5d9e19a7f"
            }
          },
          "metadata": {}
        },
        {
          "output_type": "stream",
          "name": "stdout",
          "text": [
            "Extracting ./data/FashionMNIST/raw/t10k-labels-idx1-ubyte.gz to ./data/FashionMNIST/raw\n",
            "\n"
          ]
        }
      ]
    },
    {
      "cell_type": "markdown",
      "source": [
        "## Exploring the data\n",
        "\n",
        "There are 10 classes in the dataset representing with `0` to `9`. Let's define a list for mapping the numbers to human readable names."
      ],
      "metadata": {
        "id": "oFiSldpOerLi"
      }
    },
    {
      "cell_type": "code",
      "source": [
        "labels = ('T-shirt/top', 'Trouser', 'Pullover', 'Dress', 'Coat', 'Sandal', 'Shirt', 'Sneaker', 'Bag', 'Ankle boot')"
      ],
      "metadata": {
        "id": "pj4G3K97f3A7"
      },
      "execution_count": null,
      "outputs": []
    },
    {
      "cell_type": "markdown",
      "source": [
        "After that, we could take a look to the data. Each sample data in dataset consist of an image in 28 x 28 grayscale. We could look at a pacticualr one by using `.imshow(...)` in matplotlib.  "
      ],
      "metadata": {
        "id": "TOuBEN8xgPWi"
      }
    },
    {
      "cell_type": "code",
      "source": [
        "import matplotlib.pyplot as plt\n",
        "\n",
        "img, label = train_set[0]\n",
        "print(labels[label])\n",
        "plt.imshow(img[0])"
      ],
      "metadata": {
        "colab": {
          "base_uri": "https://localhost:8080/",
          "height": 301
        },
        "id": "o9srMyYnetfa",
        "outputId": "551a4e8b-91d4-446e-946f-eeaffea6a2ec"
      },
      "execution_count": null,
      "outputs": [
        {
          "output_type": "stream",
          "name": "stdout",
          "text": [
            "Ankle boot\n"
          ]
        },
        {
          "output_type": "execute_result",
          "data": {
            "text/plain": [
              "<matplotlib.image.AxesImage at 0x7f287d6aa090>"
            ]
          },
          "metadata": {},
          "execution_count": 4
        },
        {
          "output_type": "display_data",
          "data": {
            "text/plain": [
              "<Figure size 432x288 with 1 Axes>"
            ],
            "image/png": "[encoded data removed]"
          },
          "metadata": {
            "needs_background": "light"
          }
        }
      ]
    },
    {
      "cell_type": "code",
      "source": [
        "img, label = train_set[-1]\n",
        "print(labels[label])\n",
        "plt.imshow(img[0])"
      ],
      "metadata": {
        "colab": {
          "base_uri": "https://localhost:8080/",
          "height": 301
        },
        "id": "w8q-AJUhfrHV",
        "outputId": "f67b428d-0d22-444e-9e6f-c1656d0cbf58"
      },
      "execution_count": null,
      "outputs": [
        {
          "output_type": "stream",
          "name": "stdout",
          "text": [
            "Sandal\n"
          ]
        },
        {
          "output_type": "execute_result",
          "data": {
            "text/plain": [
              "<matplotlib.image.AxesImage at 0x7f287d183b50>"
            ]
          },
          "metadata": {},
          "execution_count": 5
        },
        {
          "output_type": "display_data",
          "data": {
            "text/plain": [
              "<Figure size 432x288 with 1 Axes>"
            ],
            "image/png": "[encoded data removed]"
          },
          "metadata": {
            "needs_background": "light"
          }
        }
      ]
    },
    {
      "cell_type": "markdown",
      "source": [
        "## Wrapping dataset with `DataLoader`"
      ],
      "metadata": {
        "id": "DZ1BaNPadgXR"
      }
    },
    {
      "cell_type": "code",
      "source": [
        "import numpy as np\n",
        "from torch.utils.data import DataLoader\n",
        "\n",
        "train_loader = DataLoader(train_set, shuffle=True)\n",
        "test_loader = DataLoader(test_set, shuffle=True)"
      ],
      "metadata": {
        "id": "Mhh7d4yBdhqM"
      },
      "execution_count": null,
      "outputs": []
    },
    {
      "cell_type": "markdown",
      "source": [
        "# Model architecture\n",
        "\n",
        "A multilayer perceptron is a neural network consists of more than one [`nn.Linear`](https://pytorch.org/docs/stable/generated/torch.nn.Linear.html#linear) layer.\n",
        "\n",
        "![](https://url2img-web.herokuapp.com/aHR0cHM6Ly9weXRvcmNoLm9yZy9kb2NzL3N0YWJsZS9nZW5lcmF0ZWQvdG9yY2gubm4uTGluZWFyLmh0bWwjdG9yY2gubm4uTGluZWFy)\n",
        "\n",
        "The following model consist of 3 layers of preceptron. Between them is a ReLU (Rectified Linear Unit) activation function.\n",
        "\n",
        "```\n",
        "             784 inputs          120 inputs          84 inputs\n",
        "   input   +------------+ RelU +------------+ RelU +------------+ 10 outputs\n",
        "---------->| preceptron |----->| preceptron |----->| preceptron |------------>\n",
        "28x28=784  +------------+      +------------+      +------------+ of probabilities\n",
        "             120 outputs         84 outputs          10 outpus\n",
        "\n",
        "```"
      ],
      "metadata": {
        "id": "OKlB5Zt03c7y"
      }
    },
    {
      "cell_type": "code",
      "execution_count": null,
      "metadata": {
        "id": "rcVgvg1mcNTG"
      },
      "outputs": [],
      "source": [
        "import torch.nn as nn\n",
        "\n",
        "model = nn.Sequential(\n",
        "  nn.Flatten(),\n",
        "  nn.Linear(28 * 28, 120),\n",
        "  nn.ReLU(),\n",
        "  nn.Linear(120, 84),\n",
        "  nn.ReLU(),\n",
        "  nn.Linear(84, 10)\n",
        ")\n",
        "\n",
        "# if NVIDIA GPU is available, we put the model in GPU.\n",
        "if torch.cuda.is_available():\n",
        "  model = model.cuda()"
      ]
    },
    {
      "cell_type": "markdown",
      "source": [
        "The model input is a 2d-array of the image pixel values. Pixel values of a particular image would first flatten into a 1d-array and go through the neural network. `nn.ReLU` is an activation function that we see it in next section."
      ],
      "metadata": {
        "id": "ENcE-chmOz_S"
      }
    },
    {
      "cell_type": "markdown",
      "source": [
        "Besides `nn.Linear` layer, there are many other network out there for example Convolution Layers for Convolution Neural Network (CNN), Recurrent Layers for Recurrent Neural Network and etc..."
      ],
      "metadata": {
        "id": "4NqB-OkoP1UT"
      }
    },
    {
      "cell_type": "markdown",
      "source": [
        "# [Activation functions](https://pytorch.org/docs/stable/nn.html#non-linear-activations-weighted-sum-nonlinearity)\n",
        "\n",
        "Activation functions in deep learning is one of the key model architecture. It defines a output range for neuron in a neural network. Let's take a look to the following activation functions."
      ],
      "metadata": {
        "id": "e-iQvPHhLtoa"
      }
    },
    {
      "cell_type": "markdown",
      "source": [
        "## `nn.Sigmoid`\n",
        "\n",
        "Historically, Sigmoid is a common choice of activation function for Multilayer perceptron.\n",
        "\n",
        "![](https://url2img-web.herokuapp.com/aHR0cHM6Ly9weXRvcmNoLm9yZy9kb2NzL3N0YWJsZS9nZW5lcmF0ZWQvdG9yY2gubm4uU2lnbW9pZC5odG1sI3RvcmNoLm5uLlNpZ21vaWQ=)\n",
        "\n",
        "![](https://pytorch.org/docs/stable/_images/Sigmoid.png)"
      ],
      "metadata": {
        "id": "qHl3SyYDU1XE"
      }
    },
    {
      "cell_type": "markdown",
      "source": [
        "## `nn.Tanh`\n",
        "\n",
        "![](https://url2img-web.herokuapp.com/aHR0cHM6Ly9weXRvcmNoLm9yZy9kb2NzL3N0YWJsZS9nZW5lcmF0ZWQvdG9yY2gubm4uVGFuaC5odG1sI3RvcmNoLm5uLlRhbmg=)\n",
        "\n",
        "![](https://pytorch.org/docs/stable/_images/Tanh.png)"
      ],
      "metadata": {
        "id": "SNIv9ncmopzu"
      }
    },
    {
      "cell_type": "markdown",
      "source": [
        "## `nn.ReLU`\n",
        "\n",
        "In our model, `nn.ReLU` is used for `nn.Linear` layer. It is more common to use `nn.ReLU` nowadays because of [Vanishing gradient problem](https://en.wikipedia.org/wiki/Vanishing_gradient_problem#mw-content-text).\n",
        "\n",
        "![](https://url2img-web.herokuapp.com/aHR0cHM6Ly9weXRvcmNoLm9yZy9kb2NzL3N0YWJsZS9nZW5lcmF0ZWQvdG9yY2gubm4uUmVMVS5odG1sI3RvcmNoLm5uLlJlTFU=)\n",
        "\n",
        "![](https://pytorch.org/docs/stable/_images/ReLU.png)\n"
      ],
      "metadata": {
        "id": "aJmM0OvcL5HS"
      }
    },
    {
      "cell_type": "markdown",
      "source": [
        "# [Loss functions](https://pytorch.org/docs/stable/nn.html#loss-functions)\n"
      ],
      "metadata": {
        "id": "pwcuN2DewxLk"
      }
    },
    {
      "cell_type": "markdown",
      "source": [
        "## `nn.L1Loss`\n",
        "\n",
        "`nn.L1Loss` is the loss function for applying L1 regulatorization.\n",
        "\n",
        "![](https://url2img-web.herokuapp.com/aHR0cHM6Ly9weXRvcmNoLm9yZy9kb2NzL3N0YWJsZS9nZW5lcmF0ZWQvdG9yY2gubm4uTDFMb3NzLmh0bWwjdG9yY2gubm4uTDFMb3Nz)"
      ],
      "metadata": {
        "id": "7mRMs75-KN5h"
      }
    },
    {
      "cell_type": "markdown",
      "source": [
        "## `nn.MSELoss`\n",
        "\n",
        "`nn.MSELoss` is the loss function for applying L2 regulatorization.\n",
        "\n",
        "![](https://url2img-web.herokuapp.com/aHR0cHM6Ly9weXRvcmNoLm9yZy9kb2NzL3N0YWJsZS9nZW5lcmF0ZWQvdG9yY2gubm4uTVNFTG9zcy5odG1sI3RvcmNoLm5uLk1TRUxvc3M=)"
      ],
      "metadata": {
        "id": "pEHR_G97Kffy"
      }
    },
    {
      "cell_type": "markdown",
      "source": [
        "## `nn.CrossEntropyLoss`\n",
        "\n",
        "\n",
        "In our example, we would like to use [`nn.CrossEntropyLoss`](https://pytorch.org/docs/stable/generated/torch.nn.CrossEntropyLoss.html#torch.nn.CrossEntropyLoss) loss function. Let's take a look to it.\n",
        "\n",
        "![](https://url2img-web.herokuapp.com/aHR0cHM6Ly9weXRvcmNoLm9yZy9kb2NzL3N0YWJsZS9nZW5lcmF0ZWQvdG9yY2gubm4uQ3Jvc3NFbnRyb3B5TG9zcy5odG1sI3RvcmNoLm5uLkNyb3NzRW50cm9weUxvc3M=)"
      ],
      "metadata": {
        "id": "P7hxGqEN5wUI"
      }
    },
    {
      "cell_type": "code",
      "source": [
        "loss_function = nn.CrossEntropyLoss()\n",
        "\n",
        "if torch.cuda.is_available():\n",
        "  loss_function = loss_function.cuda()"
      ],
      "metadata": {
        "id": "YJpb54lJ34N_"
      },
      "execution_count": null,
      "outputs": []
    },
    {
      "cell_type": "markdown",
      "source": [
        "# Optimizer"
      ],
      "metadata": {
        "id": "NJY50SfKqk3W"
      }
    },
    {
      "cell_type": "markdown",
      "source": [
        "## Stochastic Gradient Descent (SGD)\n",
        "\n",
        "We would like to use [Stochastic Gradient Descent (SGD)](https://pytorch.org/docs/stable/generated/torch.optim.SGD.html#torch.optim.SGD) optimization in our model.\n",
        "\n",
        "![](https://url2img-web.herokuapp.com/aHR0cHM6Ly9weXRvcmNoLm9yZy9kb2NzL3N0YWJsZS9nZW5lcmF0ZWQvdG9yY2gub3B0aW0uU0dELmh0bWwjdG9yY2gub3B0aW0uU0dE)"
      ],
      "metadata": {
        "id": "NemE6MF45yDx"
      }
    },
    {
      "cell_type": "code",
      "source": [
        "from torch import optim\n",
        "\n",
        "optimizer = optim.SGD(model.parameters(), lr=1e-3)"
      ],
      "metadata": {
        "id": "1EZRI8jX358m"
      },
      "execution_count": null,
      "outputs": []
    },
    {
      "cell_type": "markdown",
      "source": [
        "## Adam\n",
        "\n",
        "Adam is a SGD with adaptive estimation.\n",
        "\n",
        "![](https://url2img-web.herokuapp.com/aHR0cHM6Ly9weXRvcmNoLm9yZy9kb2NzL3N0YWJsZS9nZW5lcmF0ZWQvdG9yY2gub3B0aW0uQWRhbS5odG1sI3RvcmNoLm9wdGltLkFkYW0=)"
      ],
      "metadata": {
        "id": "NWDXpi7eqowm"
      }
    },
    {
      "cell_type": "markdown",
      "source": [
        "# Traning and evaluation"
      ],
      "metadata": {
        "id": "x0e_GRbyy2eL"
      }
    },
    {
      "cell_type": "markdown",
      "source": [
        "## Training loop"
      ],
      "metadata": {
        "id": "NNwIsLiCHrLe"
      }
    },
    {
      "cell_type": "code",
      "source": [
        "from tqdm import tqdm # for making progress bar\n",
        "\n",
        "NUM_EPOCHS = 1 # each epoch take a few minutes using Colab CPU Standard runtime\n",
        "\n",
        "for epoch in range(NUM_EPOCHS):\n",
        "  loop = tqdm(train_loader, position=0, leave=True)\n",
        "\n",
        "  model.train() # put model in training mode\n",
        "  for (input, label) in loop:     # get each input and its corresponding label\n",
        "    if torch.cuda.is_available(): # load into GPU if available\n",
        "      input, label = input.cuda(), label.cuda()\n",
        "    optimizer.zero_grad()         # set gradients to zero\n",
        "    output = model.forward(input) # feed input into the model\n",
        "    loss = loss_function(output, label) # compute the loss between input and target\n",
        "    loss.backward()               # compute the gradients\n",
        "    optimizer.step()              # update model parameters with optimizer\n",
        "\n",
        "    loop.set_description(f\"Epoch [{epoch}/{NUM_EPOCHS}]\")"
      ],
      "metadata": {
        "id": "GPwgbKhb39SQ",
        "colab": {
          "base_uri": "https://localhost:8080/"
        },
        "outputId": "40bdab92-dd92-4dc8-a29d-300ddb5749a4"
      },
      "execution_count": null,
      "outputs": [
        {
          "output_type": "stream",
          "name": "stderr",
          "text": [
            "Epoch [0/1]: 100%|██████████| 60000/60000 [07:53<00:00, 126.59it/s]\n"
          ]
        }
      ]
    },
    {
      "cell_type": "markdown",
      "source": [
        "## Model evaluation "
      ],
      "metadata": {
        "id": "otckRdVVy50b"
      }
    },
    {
      "cell_type": "code",
      "source": [
        "correct = 0\n",
        "total = 0\n",
        "\n",
        "loop = tqdm(test_loader, position=0, leave=True)\n",
        "model.eval() # put model in evaluation mode\n",
        "for (input, label) in loop:\n",
        "  if torch.cuda.is_available():\n",
        "    input, label = input.cuda(), label.cuda()\n",
        "  output = model.forward(input) # feed input into the model\n",
        "  _, predicted = torch.max(output.data, 1) # make preduction\n",
        "  total += label.size(0)        # increase total number\n",
        "  correct += (predicted == label).sum().item() # increase correct number\n",
        "  loop.set_postfix(acc=(100*correct/total)) # showing number in percentage"
      ],
      "metadata": {
        "id": "72cwPl_ZsvPx",
        "colab": {
          "base_uri": "https://localhost:8080/"
        },
        "outputId": "b773c030-8fc1-439f-ce53-857993b55cc7"
      },
      "execution_count": null,
      "outputs": [
        {
          "output_type": "stream",
          "name": "stderr",
          "text": [
            "100%|██████████| 10000/10000 [00:57<00:00, 173.11it/s, acc=82.3]\n"
          ]
        }
      ]
    },
    {
      "cell_type": "markdown",
      "source": [
        "# Regularization\n",
        "\n",
        "Regularization techniques is for prevent overfiting. Let's take a look how we could apply it in Pytorch."
      ],
      "metadata": {
        "id": "np-UgN2KzDtD"
      }
    },
    {
      "cell_type": "markdown",
      "source": [
        "## L1 regularization\n",
        "\n",
        "In face, we could implement L1 regulatorization by our own. Let's modify the training loop as follows."
      ],
      "metadata": {
        "id": "9knNXkpb8X0t"
      }
    },
    {
      "cell_type": "code",
      "source": [
        "from tqdm import tqdm # for making progress bar\n",
        "\n",
        "NUM_EPOCHS = 1 # each epoch take a few minutes using Colab CPU Standard runtime\n",
        "l1_lambda = 1e-3\n",
        "\n",
        "for epoch in range(NUM_EPOCHS):\n",
        "  loop = tqdm(train_loader, position=0, leave=True)\n",
        "\n",
        "  model.train() # put model in training mode\n",
        "  for (input, label) in loop:\n",
        "    if torch.cuda.is_available():\n",
        "      input, label = input.cuda(), label.cuda()\n",
        "    optimizer.zero_grad()\n",
        "    output = model.forward(input)\n",
        "    loss = loss_function(output, label)\n",
        "    \n",
        "    # sum the absolute value of all weights in the model\n",
        "    l1_norm = sum(p.abs().sum() for p in model.parameters())\n",
        "    loss += l1_lambda * l1_norm\n",
        "\n",
        "    loss.backward()\n",
        "    optimizer.step()\n",
        "\n",
        "    loop.set_description(f\"Epoch [{epoch}/{NUM_EPOCHS}]\")"
      ],
      "metadata": {
        "id": "ixp-yMmZzAie",
        "colab": {
          "base_uri": "https://localhost:8080/"
        },
        "outputId": "5cf31c82-1ac9-4d37-a4bb-0efa12de7440"
      },
      "execution_count": null,
      "outputs": [
        {
          "output_type": "stream",
          "name": "stderr",
          "text": [
            "Epoch [0/1]: 100%|██████████| 60000/60000 [08:51<00:00, 112.95it/s]\n"
          ]
        }
      ]
    },
    {
      "cell_type": "markdown",
      "source": [
        "### Evaluation"
      ],
      "metadata": {
        "id": "Idkaey3-kCJB"
      }
    },
    {
      "cell_type": "code",
      "source": [
        "correct = 0\n",
        "total = 0\n",
        "\n",
        "loop = tqdm(test_loader, position=0, leave=True)\n",
        "model.eval() # put model in evaluation mode\n",
        "for (input, label) in loop:\n",
        "  if torch.cuda.is_available():\n",
        "    input, label = input.cuda(), label.cuda()\n",
        "  output = model.forward(input)\n",
        "  _, predicted = torch.max(output.data, 1)\n",
        "  total += label.size(0)\n",
        "  correct += (predicted == label).sum().item()\n",
        "  loop.set_postfix(acc=(100*correct/total))"
      ],
      "metadata": {
        "colab": {
          "base_uri": "https://localhost:8080/"
        },
        "outputId": "bf73a1b5-0572-451a-8385-768f746b8013",
        "id": "9M2DCKsTkCJD"
      },
      "execution_count": null,
      "outputs": [
        {
          "output_type": "stream",
          "name": "stderr",
          "text": [
            "100%|██████████| 10000/10000 [00:58<00:00, 171.08it/s, acc=81.5]\n"
          ]
        }
      ]
    },
    {
      "cell_type": "markdown",
      "source": [
        "## L2 regularization\n",
        "\n",
        "In `optim.SGD(...)` fucntion, there is a `weight_decay` parameter for L2 penalty value. Default is `0`, meaning that no L2 regularization. When we change it to a value larger then `0`, it would behave as L2 regularization."
      ],
      "metadata": {
        "id": "OK2UB6dH8ZT3"
      }
    },
    {
      "cell_type": "code",
      "source": [
        "from torch import optim\n",
        "\n",
        "optimizer = optim.SGD(model.parameters(), lr=1e-3, weight_decay=1e-3)"
      ],
      "metadata": {
        "id": "HJRgndP48aDb"
      },
      "execution_count": null,
      "outputs": []
    },
    {
      "cell_type": "code",
      "source": [
        "from tqdm import tqdm # for making progress bar\n",
        "\n",
        "NUM_EPOCHS = 1 # each epoch take a few minutes using Colab CPU Standard runtime\n",
        "l1_lambda = 1e-3\n",
        "\n",
        "for epoch in range(NUM_EPOCHS):\n",
        "  loop = tqdm(train_loader, position=0, leave=True)\n",
        "\n",
        "  model.train() # put model in training mode\n",
        "  for (input, label) in loop:\n",
        "    if torch.cuda.is_available():\n",
        "      input, label = input.cuda(), label.cuda()\n",
        "    optimizer.zero_grad()\n",
        "    output = model.forward(input)\n",
        "    loss = loss_function(output, label)\n",
        "    loss.backward()\n",
        "    optimizer.step()\n",
        "\n",
        "    loop.set_description(f\"Epoch [{epoch}/{NUM_EPOCHS}]\")"
      ],
      "metadata": {
        "id": "OlboQLITH0UC",
        "colab": {
          "base_uri": "https://localhost:8080/"
        },
        "outputId": "e9d2384a-76d8-4710-f536-a9921eb601ac"
      },
      "execution_count": null,
      "outputs": [
        {
          "output_type": "stream",
          "name": "stderr",
          "text": [
            "Epoch [0/1]: 100%|██████████| 60000/60000 [07:41<00:00, 129.98it/s]\n"
          ]
        }
      ]
    },
    {
      "cell_type": "markdown",
      "source": [
        "### Evaluation\n",
        "\n",
        "You will see the accuracy is higher then before without regulatization."
      ],
      "metadata": {
        "id": "QKOKVwnQkHsr"
      }
    },
    {
      "cell_type": "code",
      "source": [
        "correct = 0\n",
        "total = 0\n",
        "\n",
        "loop = tqdm(test_loader, position=0, leave=True)\n",
        "model.eval() # put model in evaluation mode\n",
        "for (input, label) in loop:\n",
        "  if torch.cuda.is_available():\n",
        "    input, label = input.cuda(), label.cuda()\n",
        "  output = model.forward(input)\n",
        "  _, predicted = torch.max(output.data, 1)\n",
        "  total += label.size(0)\n",
        "  correct += (predicted == label).sum().item()\n",
        "  loop.set_postfix(acc=(100*correct/total))"
      ],
      "metadata": {
        "colab": {
          "base_uri": "https://localhost:8080/"
        },
        "outputId": "296eaa48-32e0-40ce-9759-343587adf997",
        "id": "_RccBjoQkHs5"
      },
      "execution_count": null,
      "outputs": [
        {
          "output_type": "stream",
          "name": "stderr",
          "text": [
            "100%|██████████| 10000/10000 [00:52<00:00, 190.60it/s, acc=83.3]\n"
          ]
        }
      ]
    },
    {
      "cell_type": "code",
      "source": [],
      "metadata": {
        "id": "_KfSRH7RJ5sa"
      },
      "execution_count": null,
      "outputs": []
    }
  ]
}